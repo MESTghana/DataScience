{
 "metadata": {
  "name": ""
 },
 "nbformat": 3,
 "nbformat_minor": 0,
 "worksheets": [
  {
   "cells": [
    {
     "cell_type": "heading",
     "level": 1,
     "metadata": {},
     "source": [
      "Lesson 2: Data Wrangling"
     ]
    },
    {
     "cell_type": "heading",
     "level": 2,
     "metadata": {},
     "source": [
      "Exercise1: CSV"
     ]
    },
    {
     "cell_type": "code",
     "collapsed": false,
     "input": [
      "import pandas as pd\n",
      "\n",
      "def add_full_name(path_to_csv, path_to_new_csv):\n",
      "    #Assume you will be reading in a csv file with the same columns that the\n",
      "    #Lahman baseball data set has -- most importantly, there are columns\n",
      "    #called 'nameFirst' and 'nameLast'.\n",
      "    #1) Write a function that reads a csv\n",
      "    #located at \"path_to_csv\" into a pandas dataframe and adds a new column\n",
      "    #called 'nameFull' with a player's full name.\n",
      "    #\n",
      "    #For example:\n",
      "    #   for Hank Aaron, nameFull would be 'Hank Aaron', \n",
      "\t#\n",
      "\t#2) Write the data in the pandas dataFrame to a new csv file located at\n",
      "\t#path_to_new_csv\n",
      "\n",
      "    #WRITE YOUR CODE HERE\n",
      "    baseball_data = pd.read_csv(path_to_csv)\n",
      "    name_first = baseball_data[\"nameFirst\"]\n",
      "    name_last = baseball_data[\"nameLast\"]\n",
      "    \n",
      "    baseball_data[\"nameFull\"] = name_first + \" \" + name_last\n",
      "    baseball_data.to_csv(path_to_new_csv)\n",
      "    \n",
      "    \n",
      "\n",
      "\n",
      "\n",
      "if __name__ == \"__main__\":\n",
      "    # For local use only\n",
      "    # If you are running this on your own machine add the path to the\n",
      "    # Lahman baseball csv and a path for the new csv.\n",
      "    path_to_csv = \"Master.csv\"\n",
      "    path_to_new_csv = \"Master_With_FullName.csv\"\n",
      "    add_full_name(path_to_csv, path_to_new_csv)"
     ],
     "language": "python",
     "metadata": {},
     "outputs": [],
     "prompt_number": 7
    },
    {
     "cell_type": "heading",
     "level": 2,
     "metadata": {},
     "source": [
      "Exercise2: Write Your Own SQL Query"
     ]
    },
    {
     "cell_type": "raw",
     "metadata": {},
     "source": [
      "Install the pandasql library using pip in terminal\n",
      "[sudo] pip install pandasql"
     ]
    },
    {
     "cell_type": "code",
     "collapsed": false,
     "input": [
      "import pandas\n",
      "import pandasql\n",
      "\n",
      "def select_first_50(filename):\n",
      "    # Read in our aadhaar_data csv to a pandas dataframe.  Afterwards, we rename the columns\n",
      "    # by replacing spaces with underscores and setting all characters to lowercase, so the\n",
      "    # column names more closely resemble columns names one might find in a table.\n",
      "    aadhaar_data = pandas.read_csv(filename)\n",
      "    aadhaar_data.rename(columns = lambda x: x.replace(' ', '_').lower(), inplace=True)\n",
      "\n",
      "    # Select out the first 50 values for \"registrar\" and \"enrolment_agency\"\n",
      "    # in the aadhaar_data table using SQL syntax. \n",
      "    #\n",
      "    # Note that \"enrolment_agency\" is spelled with one l. Also, the order\n",
      "    # of the select does matter. Make sure you select registrar then enrolment agency\n",
      "    # in your query.\n",
      "    q = \"\"\"\n",
      "    SELECT registrar,enrolment_agency FROM aadhaar_data LIMIT 50;\n",
      "    \"\"\"\n",
      "\n",
      "    #Execute your SQL command against the pandas frame\n",
      "    aadhaar_solution = pandasql.sqldf(q.lower(), locals())\n",
      "    return aadhaar_solution\n",
      "\n",
      "select_first_50('aadhaar.csv')"
     ],
     "language": "python",
     "metadata": {},
     "outputs": [],
     "prompt_number": "*"
    },
    {
     "cell_type": "heading",
     "level": 2,
     "metadata": {},
     "source": [
      "Exercise3: Writing Your Own Complex Query"
     ]
    },
    {
     "cell_type": "code",
     "collapsed": false,
     "input": [
      "import pandas\n",
      "import pandasql\n",
      "\n",
      "def aggregate_query(filename):\n",
      "    # Read in our aadhaar_data csv to a pandas dataframe.  Afterwards, we rename the columns\n",
      "    # by replacing spaces with underscores and setting all characters to lowercase, so the\n",
      "    # column names more closely resemble columns names one might find in a table.\n",
      "    \n",
      "    aadhaar_data = pandas.read_csv(filename)\n",
      "    aadhaar_data.rename(columns = lambda x: x.replace(' ', '_').lower(), inplace=True)\n",
      "\n",
      "    # Write a query that will select from the aadhaar_data table how many men and how \n",
      "    # many women over the age of 50 have had aadhaar generated for them in each district\n",
      "    #\n",
      "    # Note that in this quiz, the SQL query keywords are case sensitive. \n",
      "    # For example, if you want to do a sum make sure you type 'sum' rather than 'SUM'.\n",
      "    #\n",
      "\n",
      "    # The possible columns to select from aadhaar data are:\n",
      "    #     1) registrar\n",
      "    #     2) enrolment_agency\n",
      "    #     3) state\n",
      "    #     4) district\n",
      "    #     5) sub_district\n",
      "    #     6) pin_code\n",
      "    #     7) gender\n",
      "    #     8) age\n",
      "    #     9) aadhaar_generated\n",
      "    #     10) enrolment_rejected\n",
      "    #     11) residents_providing_email,\n",
      "    #     12) residents_providing_mobile_number\n",
      "    #\n",
      "    # You can download a copy of the aadhaar data that we are passing \n",
      "    # into this exercise below:\n",
      "    # https://www.dropbox.com/s/vn8t4uulbsfmalo/aadhaar_data.csv\n",
      "        \n",
      "    q = \"\"\"\n",
      "    -- YOUR QUERY HERE\n",
      "    \"\"\"\n",
      "\n",
      "    # Execute your SQL command against the pandas frame\n",
      "    aadhaar_solution = pandasql.sqldf(q.lower(), locals())\n",
      "    return aadhaar_solution    \n",
      "\n",
      "aggregate_query('aadhaar.csv')"
     ],
     "language": "python",
     "metadata": {},
     "outputs": [],
     "prompt_number": 54
    },
    {
     "cell_type": "markdown",
     "metadata": {},
     "source": [
      "## Library Highlight: [PANDASQL](http://blog.yhathq.com/posts/pandasql-sql-for-pandas-dataframes.html) - a Python Library for SQL queries"
     ]
    },
    {
     "cell_type": "heading",
     "level": 2,
     "metadata": {},
     "source": [
      "Exercise4: API "
     ]
    },
    {
     "cell_type": "markdown",
     "metadata": {},
     "source": [
      "**Instructor Notes**\n",
      "\n",
      "You do not need an API key to complete this lesson through the browser.\n",
      "\n",
      "The URL is passed in for you. It will include parameters such as 'country'. Your main task here is to navigate through the data structure returned by the last.fm API in order to find and return the #1 top artist in Spain.\n",
      "\n",
      "One very helpful python library for this exercise is pprint."
     ]
    },
    {
     "cell_type": "code",
     "collapsed": false,
     "input": [
      "import json\n",
      "import requests\n",
      "\n",
      "def api_get_request(url):\n",
      "    # In this exercise, you want to call the last.fm API to get a list of the\n",
      "    # top artists in Spain.\n",
      "    #\n",
      "    # Once you've done this, return the name of the number 1 top artist in Spain.\n",
      "    data = requests.get(url).text\n",
      "    data = json.loads(data)\n",
      "    print data\n",
      "    \n",
      "    \n",
      "    return None\n",
      "\n",
      "url = 'http://ws.audioscrobbler.com/2.0/?method=geo.gettopartists&country=spain&api_key=8063cb1d6d97e92276e7db9f139247e2&format=json'\n",
      "top_artist_spain = api_get_request(url)"
     ],
     "language": "python",
     "metadata": {},
     "outputs": [],
     "prompt_number": "*"
    },
    {
     "cell_type": "heading",
     "level": 2,
     "metadata": {},
     "source": [
      "Sanity Checking Data"
     ]
    },
    {
     "cell_type": "markdown",
     "metadata": {},
     "source": [
      "Once you have obtained your data in the format for analysis, you need to do one more thing before you can start analysis: Sanity Checking\n",
      "\n",
      "Here are some questions to ask when sanity checking your data:\n",
      "\n",
      "- Does the data make sense?\n",
      "- Is there a problem?\n",
      "- Does the data look like I expect it to"
     ]
    },
    {
     "cell_type": "heading",
     "level": 3,
     "metadata": {},
     "source": [
      "Dealing With Missing Data"
     ]
    },
    {
     "cell_type": "markdown",
     "metadata": {},
     "source": [
      "Two approaches for dealing with missing data:\n",
      "\n",
      "- [Listwise deletion](http://en.wikipedia.org/wiki/Listwise_deletion)\n",
      "- [Pairwise deletion]()"
     ]
    },
    {
     "cell_type": "heading",
     "level": 2,
     "metadata": {},
     "source": [
      "Exercise5: Imputation"
     ]
    },
    {
     "cell_type": "code",
     "collapsed": false,
     "input": [
      "from pandas import *\n",
      "import numpy\n",
      "\n",
      "def imputation(filename):\n",
      "    # Pandas dataframes have a method called 'fillna(value)', such that you can\n",
      "    # pass in a single value to replace any NAs in a dataframe or series. You\n",
      "    # can call it like this: \n",
      "    #     dataframe['column'] = dataframe['column'].fillna(value)\n",
      "    #\n",
      "    # Using the numpy.mean function, which calculates the mean of a numpy\n",
      "    # array, impute any missing values in our Lahman baseball\n",
      "    # data sets 'weight' column by setting them equal to the average weight.\n",
      "    # \n",
      "    # You can access the 'weight' colum in the baseball data frame by\n",
      "    # calling baseball['weight']\n",
      "\n",
      "    baseball = pandas.read_csv(filename)\n",
      "    \n",
      "    #YOUR CODE GOES HERE\n",
      "\n",
      "    return baseball\n",
      "\n",
      "baseball_file = 'Master.csv'\n",
      "imputed_data = imputation(baseball_file)"
     ],
     "language": "python",
     "metadata": {},
     "outputs": [],
     "prompt_number": 53
    }
   ],
   "metadata": {}
  }
 ]
}