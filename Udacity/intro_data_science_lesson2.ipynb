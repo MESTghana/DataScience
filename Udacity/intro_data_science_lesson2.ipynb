{
 "metadata": {
  "name": ""
 },
 "nbformat": 3,
 "nbformat_minor": 0,
 "worksheets": [
  {
   "cells": [
    {
     "cell_type": "heading",
     "level": 1,
     "metadata": {},
     "source": [
      "Lesson 2: Data Wrangling"
     ]
    },
    {
     "cell_type": "heading",
     "level": 2,
     "metadata": {},
     "source": [
      "Exercise1: CSV"
     ]
    },
    {
     "cell_type": "code",
     "collapsed": false,
     "input": [
      "import pandas\n",
      "\n",
      "def add_full_name(path_to_csv, path_to_new_csv):\n",
      "    #Assume you will be reading in a csv file with the same columns that the\n",
      "    #Lahman baseball data set has -- most importantly, there are columns\n",
      "    #called 'nameFirst' and 'nameLast'.\n",
      "    #1) Write a function that reads a csv\n",
      "    #located at \"path_to_csv\" into a pandas dataframe and adds a new column\n",
      "    #called 'nameFull' with a player's full name.\n",
      "    #\n",
      "    #For example:\n",
      "    #   for Hank Aaron, nameFull would be 'Hank Aaron', \n",
      "\t#\n",
      "\t#2) Write the data in the pandas dataFrame to a new csv file located at\n",
      "\t#path_to_new_csv\n",
      "\n",
      "    #WRITE YOUR CODE HERE\n",
      "    data = pandas.read_csv(path_to_csv)\n",
      "    first_name = data[\"nameFirst\"]\n",
      "    last_name = data[\"nameLast\"]\n",
      "    data[\"nameFull\"] = first_name + \" \" + last_name\n",
      "    data.to_csv(path_to_new_csv)\n",
      "    \n",
      "    \n",
      "\n",
      "\n",
      "\n",
      "if __name__ == \"__main__\":\n",
      "    # For local use only\n",
      "    # If you are running this on your own machine add the path to the\n",
      "    # Lahman baseball csv and a path for the new csv.\n",
      "    path_to_csv = \"Master.csv\"\n",
      "    path_to_new_csv = \"Master_With_FullName.csv\"\n",
      "    add_full_name(path_to_csv, path_to_new_csv)"
     ],
     "language": "python",
     "metadata": {},
     "outputs": [],
     "prompt_number": 9
    },
    {
     "cell_type": "heading",
     "level": 2,
     "metadata": {},
     "source": [
      "Exercise2: Write Your Own SQL Query"
     ]
    },
    {
     "cell_type": "code",
     "collapsed": false,
     "input": [
      "# Install the pandasql library using pip\n",
      "!pip install pandasql"
     ],
     "language": "python",
     "metadata": {},
     "outputs": [],
     "prompt_number": "*"
    },
    {
     "cell_type": "code",
     "collapsed": false,
     "input": [
      "import pandas\n",
      "import pandasql\n",
      "\n",
      "def select_first_50(filename):\n",
      "    # Read in our aadhaar_data csv to a pandas dataframe.  Afterwards, we rename the columns\n",
      "    # by replacing spaces with underscores and setting all characters to lowercase, so the\n",
      "    # column names more closely resemble columns names one might find in a table.\n",
      "    aadhaar_data = pandas.read_csv(filename)\n",
      "    aadhaar_data.rename(columns = lambda x: x.replace(' ', '_').lower(), inplace=True)\n",
      "\n",
      "    # Select out the first 50 values for \"registrar\" and \"enrolment_agency\"\n",
      "    # in the aadhaar_data table using SQL syntax. \n",
      "    #\n",
      "    # Note that \"enrolment_agency\" is spelled with one l. Also, the order\n",
      "    # of the select does matter. Make sure you select registrar then enrolment agency\n",
      "    # in your query.\n",
      "    q = \"\"\"\n",
      "    -- YOUR QUERY HERE\n",
      "    SELECT registrar, enrolment_agency\n",
      "    FROM aadhaar_data LIMIt 50;\n",
      "    \"\"\"\n",
      "\n",
      "    #Execute your SQL command against the pandas frame\n",
      "    aadhaar_solution = pandasql.sqldf(q.lower(), locals())\n",
      "    return aadhaar_solution\n",
      "\n",
      "select_first_50('aadhaar.csv')"
     ],
     "language": "python",
     "metadata": {},
     "outputs": [],
     "prompt_number": "*"
    }
   ],
   "metadata": {}
  }
 ]
}