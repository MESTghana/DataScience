{
 "metadata": {
  "name": ""
 },
 "nbformat": 3,
 "nbformat_minor": 0,
 "worksheets": [
  {
   "cells": [
    {
     "cell_type": "heading",
     "level": 2,
     "metadata": {},
     "source": [
      "Numpy Playground"
     ]
    },
    {
     "cell_type": "code",
     "collapsed": false,
     "input": [
      "import numpy as np"
     ],
     "language": "python",
     "metadata": {},
     "outputs": [],
     "prompt_number": 1
    },
    {
     "cell_type": "raw",
     "metadata": {},
     "source": [
      "The following code is to help you play with Numpy, which is a library that provides functions that are especially useful when you have to work with large arrays and matrices of numeric data, like doing matrix matrix multiplications. Also, Numpy is battle tested and optimized so that it runs fast, much faster than if you were working with Python lists directly."
     ]
    },
    {
     "cell_type": "code",
     "collapsed": false,
     "input": [
      "'''\n",
      "The array object class is the foundation of Numpy, and Numpy arrays are like\n",
      "lists in Python, except that every thing inside an array must be of the\n",
      "same type, like int or float.\n",
      "'''\n",
      "# Uncomment the following code to see Numpy arrays in action\n",
      "# array = np.array([1, 4, 5, 8], float)\n",
      "# print array\n",
      "# print \"\"\n",
      "# array = np.array([[1, 2, 3], [4, 5, 6]], float)  # a 2D array/Matrix\n",
      "# print array\n",
      "# print \"\""
     ],
     "language": "python",
     "metadata": {},
     "outputs": [
      {
       "metadata": {},
       "output_type": "pyout",
       "prompt_number": 2,
       "text": [
        "'\\nThe array object class is the foundation of Numpy, and Numpy arrays are like\\nlists in Python, except that every thing inside an array must be of the\\nsame type, like int or float.\\n'"
       ]
      }
     ],
     "prompt_number": 2
    },
    {
     "cell_type": "heading",
     "level": 3,
     "metadata": {},
     "source": [
      "Indexing, Slicing and Manipulating a Numpy Array"
     ]
    },
    {
     "cell_type": "raw",
     "metadata": {},
     "source": [
      "You can index, slice, and manipulate a Numpy array much like you would with a\n",
      "a Python list."
     ]
    },
    {
     "cell_type": "code",
     "collapsed": false,
     "input": [
      "# Uncomment the following code to see array indexing and slicing in action\n",
      "# array = np.array([1, 4, 5, 8], float)\n",
      "# print array\n",
      "# print \"\"\n",
      "# print array[1]\n",
      "# print \"\"\n",
      "# print array[:2]\n",
      "# print \"\"\n",
      "# array[1] = 5.0\n",
      "# print array[1]\n",
      "\n",
      "# Uncomment the following code to see Matrix indexing and slicing in action\n",
      "# two_D_array = np.array([[1, 2, 3], [4, 5, 6]], float)\n",
      "# print two_D_array\n",
      "# print \"\"\n",
      "# print two_D_array[1][1]\n",
      "# print \"\"\n",
      "# print two_D_array[1, :]\n",
      "# print \"\"\n",
      "# print two_D_array[:, 2]"
     ],
     "language": "python",
     "metadata": {},
     "outputs": [],
     "prompt_number": 5
    },
    {
     "cell_type": "heading",
     "level": 3,
     "metadata": {},
     "source": [
      "Arithmetic Operations With Numpy Arrays"
     ]
    },
    {
     "cell_type": "raw",
     "metadata": {},
     "source": [
      "Here are some arithmetic operations that you can do with Numpy arrays"
     ]
    },
    {
     "cell_type": "code",
     "collapsed": false,
     "input": [
      "# Uncomment the following lines of code to see Array arithmetics in action\n",
      "# array_1 = np.array([1, 2, 3], float)\n",
      "# array_2 = np.array([5, 2, 6], float)\n",
      "# print array_1 + array_2\n",
      "# print \"\"\n",
      "# print array_1 - array_2\n",
      "# print \"\"\n",
      "# print array_1 * array_2\n",
      "\n",
      "# Uncomment the following lines of code to see Matrix arithmetics in action\n",
      "# array_1 = np.array([[1, 2], [3, 4]], float)\n",
      "# array_2 = np.array([[5, 6], [7, 8]], float)\n",
      "# print array_1 + array_2\n",
      "# print \"\"\n",
      "# print array_1 - array_2\n",
      "# print \"\"\n",
      "# print array_1 * array_2\n"
     ],
     "language": "python",
     "metadata": {},
     "outputs": [],
     "prompt_number": 6
    },
    {
     "cell_type": "heading",
     "level": 3,
     "metadata": {},
     "source": [
      "Other Mathematical Operations in Numpy Arrays"
     ]
    },
    {
     "cell_type": "raw",
     "metadata": {},
     "source": [
      "In addition to the standard arthimetic operations, Numpy also has a range of\n",
      "other mathematical operations that you can apply to Numpy arrays, such as\n",
      "mean and dot product.\n",
      "\n",
      "Both of these functions will be useful in later programming quizzes."
     ]
    },
    {
     "cell_type": "code",
     "collapsed": false,
     "input": [
      "# array_1 = np.array([1, 2, 3], float)\n",
      "# array_2 = np.array([[6], [7], [8]], float)\n",
      "# print np.mean(array_1)\n",
      "# print np.mean(array_2)\n",
      "# print \"\"\n",
      "# print np.dot(array_1, array_2)"
     ],
     "language": "python",
     "metadata": {},
     "outputs": [],
     "prompt_number": 7
    },
    {
     "cell_type": "heading",
     "level": 1,
     "metadata": {},
     "source": [
      "Pandas Playground Series"
     ]
    },
    {
     "cell_type": "code",
     "collapsed": false,
     "input": [
      "import pandas as pd"
     ],
     "language": "python",
     "metadata": {},
     "outputs": [],
     "prompt_number": 8
    },
    {
     "cell_type": "raw",
     "metadata": {},
     "source": [
      "The following code is to help you play with the concept of Series in Pandas.\n",
      "\n",
      "You can think of Series as an one-dimensional object that is similar to\n",
      "an array, list, or column in a database. By default, it will assign an\n",
      "index label to each item in the Series ranging from 0 to N, where N is\n",
      "the number of items in the Series minus one.\n",
      "\n",
      "Please feel free to play around with the concept of Series and see what it does\n",
      "\n",
      "*This playground is inspired by Greg Reda's post on Intro to Pandas Data Structures:\n",
      "http://www.gregreda.com/2013/10/26/intro-to-pandas-data-structures/"
     ]
    },
    {
     "cell_type": "code",
     "collapsed": false,
     "input": [
      "# Change False to True to create a Series object\n",
      "if False:\n",
      "    series = pd.Series(['Dave', 'Cheng-Han', 'Udacity', 42, -1789710578])\n",
      "    print series\n",
      "\n",
      "'''\n",
      "You can also manually assign indices to the items in the Series when\n",
      "creating the series\n",
      "'''\n",
      "\n",
      "# Change False to True to see custom index in action\n",
      "if False:\n",
      "    series = pd.Series(['Dave', 'Cheng-Han', 359, 9001],\n",
      "                       index=['Instructor', 'Curriculum Manager',\n",
      "                              'Course Number', 'Power Level'])\n",
      "    print series\n",
      "\n",
      "'''\n",
      "You can use index to select specific items from the Series\n",
      "'''\n",
      "# Change False to True to see Series indexing in action\n",
      "if False:\n",
      "    series = pd.Series(['Dave', 'Cheng-Han', 359, 9001],\n",
      "                       index=['Instructor', 'Curriculum Manager',\n",
      "                              'Course Number', 'Power Level'])\n",
      "    print series['Instructor']\n",
      "    print \"\"\n",
      "    print series[['Instructor', 'Curriculum Manager', 'Course Number']]\n",
      "\n",
      "'''\n",
      "You can also use boolean operators to selector specific items from the Series\n",
      "'''\n",
      "# Change False to True to see boolean indexing in action\n",
      "if False:\n",
      "    cuteness = pd.Series([1, 2, 3, 4, 5], index=['Cockroach', 'Fish', 'Mini Pig',\n",
      "                                                 'Puppy', 'Kitten'])\n",
      "    print cuteness > 3\n",
      "    print \"\"\n",
      "    print cuteness[cuteness > 3]\n"
     ],
     "language": "python",
     "metadata": {},
     "outputs": []
    }
   ],
   "metadata": {}
  }
 ]
}