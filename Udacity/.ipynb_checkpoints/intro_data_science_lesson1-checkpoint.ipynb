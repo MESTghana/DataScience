{
 "metadata": {
  "name": ""
 },
 "nbformat": 3,
 "nbformat_minor": 0,
 "worksheets": [
  {
   "cells": [
    {
     "cell_type": "heading",
     "level": 2,
     "metadata": {},
     "source": [
      "Numpy Playground"
     ]
    },
    {
     "cell_type": "code",
     "collapsed": false,
     "input": [
      "import numpy as np"
     ],
     "language": "python",
     "metadata": {},
     "outputs": [],
     "prompt_number": 18
    },
    {
     "cell_type": "raw",
     "metadata": {},
     "source": [
      "The following code is to help you play with Numpy, which is a library that provides functions that are especially useful when you have to work with large arrays and matrices of numeric data, like doing matrix matrix multiplications. Also, Numpy is battle tested and optimized so that it runs fast, much faster than if you were working with Python lists directly."
     ]
    },
    {
     "cell_type": "code",
     "collapsed": false,
     "input": [
      "'''\n",
      "The array object class is the foundation of Numpy, and Numpy arrays are like\n",
      "lists in Python, except that every thing inside an array must be of the\n",
      "same type, like int or float.\n",
      "'''\n",
      "# Uncomment the following code to see Numpy arrays in action\n",
      "array = np.array([1, 4, 5, 8], float)\n",
      "print array\n",
      "print \"\"\n",
      "array = np.array([[1, 2, 3], [4, 5, 6]], float)  # a 2D array/Matrix\n",
      "print array\n",
      "# print \"\""
     ],
     "language": "python",
     "metadata": {},
     "outputs": [
      {
       "output_type": "stream",
       "stream": "stdout",
       "text": [
        "[ 1.  4.  5.  8.]\n",
        "\n",
        "[[ 1.  2.  3.]\n",
        " [ 4.  5.  6.]]\n"
       ]
      }
     ],
     "prompt_number": 22
    },
    {
     "cell_type": "heading",
     "level": 3,
     "metadata": {},
     "source": [
      "Indexing, Slicing and Manipulating a Numpy Array"
     ]
    },
    {
     "cell_type": "raw",
     "metadata": {},
     "source": [
      "You can index, slice, and manipulate a Numpy array much like you would with a\n",
      "a Python list."
     ]
    },
    {
     "cell_type": "code",
     "collapsed": false,
     "input": [
      "# Uncomment the following code to see array indexing and slicing in action\n",
      "# array = np.array([1, 4, 5, 8], float)\n",
      "# print array\n",
      "# print \"\"\n",
      "# print array[1]\n",
      "# print \"\"\n",
      "# print array[:2]\n",
      "# print \"\"\n",
      "# array[1] = 5.0\n",
      "# print array[1]\n",
      "\n",
      "# Uncomment the following code to see Matrix indexing and slicing in action\n",
      "# two_D_array = np.array([[1, 2, 3], [4, 5, 6]], float)\n",
      "# print two_D_array\n",
      "# print \"\"\n",
      "# print two_D_array[1][1]\n",
      "# print \"\"\n",
      "# print two_D_array[1, :]\n",
      "# print \"\"\n",
      "# print two_D_array[:, 2]"
     ],
     "language": "python",
     "metadata": {},
     "outputs": [],
     "prompt_number": 5
    },
    {
     "cell_type": "heading",
     "level": 3,
     "metadata": {},
     "source": [
      "Arithmetic Operations With Numpy Arrays"
     ]
    },
    {
     "cell_type": "raw",
     "metadata": {},
     "source": [
      "Here are some arithmetic operations that you can do with Numpy arrays"
     ]
    },
    {
     "cell_type": "code",
     "collapsed": false,
     "input": [
      "# Uncomment the following lines of code to see Array arithmetics in action\n",
      "# array_1 = np.array([1, 2, 3], float)\n",
      "# array_2 = np.array([5, 2, 6], float)\n",
      "# print array_1 + array_2\n",
      "# print \"\"\n",
      "# print array_1 - array_2\n",
      "# print \"\"\n",
      "# print array_1 * array_2\n",
      "\n",
      "# Uncomment the following lines of code to see Matrix arithmetics in action\n",
      "# array_1 = np.array([[1, 2], [3, 4]], float)\n",
      "# array_2 = np.array([[5, 6], [7, 8]], float)\n",
      "# print array_1 + array_2\n",
      "# print \"\"\n",
      "# print array_1 - array_2\n",
      "# print \"\"\n",
      "# print array_1 * array_2\n"
     ],
     "language": "python",
     "metadata": {},
     "outputs": [],
     "prompt_number": 6
    },
    {
     "cell_type": "heading",
     "level": 3,
     "metadata": {},
     "source": [
      "Other Mathematical Operations in Numpy Arrays"
     ]
    },
    {
     "cell_type": "raw",
     "metadata": {},
     "source": [
      "In addition to the standard arthimetic operations, Numpy also has a range of\n",
      "other mathematical operations that you can apply to Numpy arrays, such as\n",
      "mean and dot product.\n",
      "\n",
      "Both of these functions will be useful in later programming quizzes."
     ]
    },
    {
     "cell_type": "code",
     "collapsed": false,
     "input": [
      "# array_1 = np.array([1, 2, 3], float)\n",
      "# array_2 = np.array([[6], [7], [8]], float)\n",
      "# print np.mean(array_1)\n",
      "# print np.mean(array_2)\n",
      "# print \"\"\n",
      "# print np.dot(array_1, array_2)"
     ],
     "language": "python",
     "metadata": {},
     "outputs": [],
     "prompt_number": 7
    },
    {
     "cell_type": "heading",
     "level": 1,
     "metadata": {},
     "source": [
      "Pandas Playground --- Series"
     ]
    },
    {
     "cell_type": "code",
     "collapsed": false,
     "input": [
      "import pandas as pd"
     ],
     "language": "python",
     "metadata": {},
     "outputs": [],
     "prompt_number": 8
    },
    {
     "cell_type": "raw",
     "metadata": {},
     "source": [
      "The following code is to help you play with the concept of Series in Pandas.\n",
      "\n",
      "You can think of Series as an one-dimensional object that is similar to\n",
      "an array, list, or column in a database. By default, it will assign an\n",
      "index label to each item in the Series ranging from 0 to N, where N is\n",
      "the number of items in the Series minus one.\n",
      "\n",
      "Please feel free to play around with the concept of Series and see what it does\n",
      "\n",
      "*This playground is inspired by Greg Reda's post on Intro to Pandas Data Structures:\n",
      "http://www.gregreda.com/2013/10/26/intro-to-pandas-data-structures/"
     ]
    },
    {
     "cell_type": "code",
     "collapsed": false,
     "input": [
      "# Change False to True to create a Series object\n",
      "if True:\n",
      "    series = pd.Series(['Dave', 'Cheng-Han', 'Udacity', 42, -1789710578])\n",
      "    print series\n",
      "\n",
      "'''\n",
      "You can also manually assign indices to the items in the Series when\n",
      "creating the series\n",
      "'''\n",
      "\n",
      "# Change False to True to see custom index in action\n",
      "if False:\n",
      "    series = pd.Series(['Dave', 'Cheng-Han', 359, 9001],\n",
      "                       index=['Instructor', 'Curriculum Manager',\n",
      "                              'Course Number', 'Power Level'])\n",
      "    print series\n",
      "\n",
      "'''\n",
      "You can use index to select specific items from the Series\n",
      "'''\n",
      "# Change False to True to see Series indexing in action\n",
      "if False:\n",
      "    series = pd.Series(['Dave', 'Cheng-Han', 359, 9001],\n",
      "                       index=['Instructor', 'Curriculum Manager',\n",
      "                              'Course Number', 'Power Level'])\n",
      "    print series['Instructor']\n",
      "    print \"\"\n",
      "    print series[['Instructor', 'Curriculum Manager', 'Course Number']]\n",
      "\n",
      "'''\n",
      "You can also use boolean operators to selector specific items from the Series\n",
      "'''\n",
      "# Change False to True to see boolean indexing in action\n",
      "if False:\n",
      "    cuteness = pd.Series([1, 2, 3, 4, 5], index=['Cockroach', 'Fish', 'Mini Pig',\n",
      "                                                 'Puppy', 'Kitten'])\n",
      "    print cuteness > 3\n",
      "    print \"\"\n",
      "    print cuteness[cuteness > 3]"
     ],
     "language": "python",
     "metadata": {},
     "outputs": [
      {
       "output_type": "stream",
       "stream": "stdout",
       "text": [
        "0           Dave\n",
        "1      Cheng-Han\n",
        "2        Udacity\n",
        "3             42\n",
        "4    -1789710578\n",
        "dtype: object\n"
       ]
      }
     ],
     "prompt_number": 23
    },
    {
     "cell_type": "heading",
     "level": 1,
     "metadata": {},
     "source": [
      "Pandas Playground -- Dataframe"
     ]
    },
    {
     "cell_type": "code",
     "collapsed": false,
     "input": [
      "import numpy as np\n",
      "import pandas as pd"
     ],
     "language": "python",
     "metadata": {},
     "outputs": [],
     "prompt_number": 13
    },
    {
     "cell_type": "raw",
     "metadata": {},
     "source": [
      "The following code is to help you play with the concept of Dataframe in Pandas.\n",
      "\n",
      "You can think of a Dataframe as something with rows and columns. It is\n",
      "similar to a spreadsheet, a database table, or R's data.frame object.\n",
      "\n",
      "*This playground is inspired by Greg Reda's post on Intro to Pandas Data Structures:\n",
      "http://www.gregreda.com/2013/10/26/intro-to-pandas-data-structures/"
     ]
    },
    {
     "cell_type": "code",
     "collapsed": false,
     "input": [
      "'''\n",
      "To create a dataframe, you can pass a dictionary of lists to the Dataframe\n",
      "constructor:\n",
      "1) The key of the dictionary will be the column name\n",
      "2) The associating list will be the values within that column.\n",
      "'''\n",
      "# Change False to True to see Series in action\n",
      "if False:\n",
      "    data = {'year': [2010, 2011, 2012, 2011, 2012, 2010, 2011, 2012],\n",
      "            'team': ['Bears', 'Bears', 'Bears', 'Packers', 'Packers', 'Lions',\n",
      "                     'Lions', 'Lions'],\n",
      "            'wins': [11, 8, 10, 15, 11, 6, 10, 4],\n",
      "            'losses': [5, 8, 6, 1, 5, 10, 6, 12]}\n",
      "    football = pd.DataFrame(data)\n",
      "    print football\n",
      "\n",
      "'''\n",
      "Pandas also has various functions that will help you understand some basic\n",
      "information about your data frame. Some of these functions are:\n",
      "1) dtypes: to get the datatype for each column\n",
      "2) describe: useful for seeing basic statistics of the dataframe's numerical\n",
      "   columns\n",
      "3) head: displays the first five rows of the dataset\n",
      "4) tail: displays the last five rows of the dataset\n",
      "'''\n",
      "# Change False to True to see custom indicices in action\n",
      "if False:\n",
      "    data = {'year': [2010, 2011, 2012, 2011, 2012, 2010, 2011, 2012],\n",
      "            'team': ['Bears', 'Bears', 'Bears', 'Packers', 'Packers', 'Lions',\n",
      "                     'Lions', 'Lions'],\n",
      "            'wins': [11, 8, 10, 15, 11, 6, 10, 4],\n",
      "            'losses': [5, 8, 6, 1, 5, 10, 6, 12]}\n",
      "    football = pd.DataFrame(data)\n",
      "    print football.dtypes\n",
      "    print \"\"\n",
      "    print football.describe()\n",
      "    print \"\"\n",
      "    print football.head()\n",
      "    print \"\"\n",
      "    print football.tail()"
     ],
     "language": "python",
     "metadata": {},
     "outputs": [],
     "prompt_number": 14
    },
    {
     "cell_type": "heading",
     "level": 1,
     "metadata": {},
     "source": [
      "Dataframe -- Average Gold Medal"
     ]
    },
    {
     "cell_type": "code",
     "collapsed": false,
     "input": [
      "from pandas import DataFrame, Series\n",
      "\n",
      "#################\n",
      "# Syntax Reminder:\n",
      "#\n",
      "# The following code would create a two-column pandas DataFrame\n",
      "# named df with columns labeled 'name' and 'age':\n",
      "#\n",
      "# people = ['Sarah', 'Mike', 'Chrisna']\n",
      "# ages  =  [28, 32, 25]\n",
      "# df = DataFrame({'name' : Series(people),\n",
      "#                 'age'  : Series(ages)})\n",
      "\n",
      "def create_dataframe():\n",
      "    '''\n",
      "    Create a pandas dataframe called 'olympic_medal_counts_df' containing\n",
      "    the data from the table of 2014 Sochi winter olympics medal counts.  \n",
      "\n",
      "    The columns for this dataframe should be called \n",
      "    'country_name', 'gold', 'silver', and 'bronze'.  \n",
      "\n",
      "    There is no need to  specify row indexes for this dataframe \n",
      "    (in this case, the rows will automatically be assigned numbered indexes).\n",
      "    \n",
      "    You do not need to call the function in your code when running it in the\n",
      "    browser - the grader will do that automatically when you submit or test it.\n",
      "    '''\n",
      "\n",
      "    countries = ['Russian Fed.', 'Norway', 'Canada', 'United States',\n",
      "                 'Netherlands', 'Germany', 'Switzerland', 'Belarus',\n",
      "                 'Austria', 'France', 'Poland', 'China', 'Korea', \n",
      "                 'Sweden', 'Czech Republic', 'Slovenia', 'Japan',\n",
      "                 'Finland', 'Great Britain', 'Ukraine', 'Slovakia',\n",
      "                 'Italy', 'Latvia', 'Australia', 'Croatia', 'Kazakhstan']\n",
      "\n",
      "    gold = [13, 11, 10, 9, 8, 8, 6, 5, 4, 4, 4, 3, 3, 2, 2, 2, 1, 1, 1, 1, 1, 0, 0, 0, 0, 0]\n",
      "    silver = [11, 5, 10, 7, 7, 6, 3, 0, 8, 4, 1, 4, 3, 7, 4, 2, 4, 3, 1, 0, 0, 2, 2, 2, 1, 0]\n",
      "    bronze = [9, 10, 5, 12, 9, 5, 2, 1, 5, 7, 1, 2, 2, 6, 2, 4, 3, 1, 2, 1, 0, 6, 2, 1, 0, 1]\n",
      "\n",
      "    # your code here\n",
      "\n",
      "    return olympic_medal_counts_df\n"
     ],
     "language": "python",
     "metadata": {},
     "outputs": [],
     "prompt_number": 15
    },
    {
     "cell_type": "heading",
     "level": 1,
     "metadata": {},
     "source": [
      "Pandas Playground - Indexing Dataframes"
     ]
    },
    {
     "cell_type": "code",
     "collapsed": false,
     "input": [
      "import pandas as pd\n",
      "\n",
      "'''\n",
      "You can think of a DataFrame as a group of Series that share an index.\n",
      "This makes it easy to select specific columns that you want from the \n",
      "DataFrame. How \n",
      "\n",
      "Also a couple pointers:\n",
      "1) Selecting a single column from the DataFrame will return a Series\n",
      "2) Selecting multiple columns from the DataFrame will return a DataFrame\n",
      "\n",
      "*This playground is inspired by Greg Reda's post on Intro to Pandas Data Structures:\n",
      "http://www.gregreda.com/2013/10/26/intro-to-pandas-data-structures/\n",
      "'''\n",
      "# Change False to True to see Series indexing in action\n",
      "if False:\n",
      "    data = {'year': [2010, 2011, 2012, 2011, 2012, 2010, 2011, 2012],\n",
      "            'team': ['Bears', 'Bears', 'Bears', 'Packers', 'Packers', 'Lions',\n",
      "                     'Lions', 'Lions'],\n",
      "            'wins': [11, 8, 10, 15, 11, 6, 10, 4],\n",
      "            'losses': [5, 8, 6, 1, 5, 10, 6, 12]}\n",
      "    football = pd.DataFrame(data)\n",
      "    print football['year']\n",
      "    print ''\n",
      "    print football.year  # shorthand for football['year']\n",
      "    print ''\n",
      "    print football[['year', 'wins', 'losses']]\n",
      "\n",
      "'''\n",
      "Row selection can be done through multiple ways.\n",
      "\n",
      "Some of the basic and common methods are:\n",
      "   1) Slicing\n",
      "   2) An individual index (through the functions iloc or loc)\n",
      "   3) Boolean indexing\n",
      "\n",
      "You can also combine multiple selection requirements through boolean\n",
      "operators like & (and) or | (or)\n",
      "'''\n",
      "# Change False to True to see boolean indexing in action\n",
      "if False:\n",
      "    data = {'year': [2010, 2011, 2012, 2011, 2012, 2010, 2011, 2012],\n",
      "            'team': ['Bears', 'Bears', 'Bears', 'Packers', 'Packers', 'Lions',\n",
      "                     'Lions', 'Lions'],\n",
      "            'wins': [11, 8, 10, 15, 11, 6, 10, 4],\n",
      "            'losses': [5, 8, 6, 1, 5, 10, 6, 12]}\n",
      "    football = pd.DataFrame(data)\n",
      "    print football.iloc[[0]]\n",
      "    print \"\"\n",
      "    print football.loc[[0]]\n",
      "    print \"\"\n",
      "    print football[3:5]\n",
      "    print \"\"\n",
      "    print football[football.wins > 10]\n",
      "    print \"\"\n",
      "    print football[(football.wins > 10) & (football.team == \"Packers\")]"
     ],
     "language": "python",
     "metadata": {},
     "outputs": []
    }
   ],
   "metadata": {}
  }
 ]
}