{
 "metadata": {
  "name": ""
 },
 "nbformat": 3,
 "nbformat_minor": 0,
 "worksheets": [
  {
   "cells": [
    {
     "cell_type": "heading",
     "level": 1,
     "metadata": {},
     "source": [
      "Load Essential Libraries"
     ]
    },
    {
     "cell_type": "code",
     "collapsed": false,
     "input": [
      "import numpy\n",
      "import pandas\n",
      "import statsmodels.api as sm"
     ],
     "language": "python",
     "metadata": {},
     "outputs": [],
     "prompt_number": 4
    },
    {
     "cell_type": "heading",
     "level": 1,
     "metadata": {},
     "source": [
      "Exercise 1"
     ]
    },
    {
     "cell_type": "raw",
     "metadata": {},
     "source": [
      "\n",
      "    In this exercise, we will perform some rudimentary practices similar to those of\n",
      "    an actual data scientist.\n",
      "    \n",
      "    Part of a data scientist's job is to use her or his intuition and insight to\n",
      "    write algorithms and heuristics. A data scientist also creates mathematical models \n",
      "    to make predictions based on some attributes from the data that they are examining.\n",
      "\n",
      "    We would like for you to take your knowledge and intuition about the Titanic\n",
      "    and its passengers' attributes to predict whether or not the passengers survived\n",
      "    or perished. You can read more about the Titanic and specifics about this dataset at:\n",
      "    http://en.wikipedia.org/wiki/RMS_Titanic\n",
      "    http://www.kaggle.com/c/titanic-gettingStarted\n",
      "        \n",
      "    In this exercise and the following ones, you are given a list of Titantic passengers\n",
      "    and their associated information. More information about the data can be seen at the \n",
      "    link below:\n",
      "    http://www.kaggle.com/c/titanic-gettingStarted/data. \n",
      "\n",
      "    For this exercise, you need to write a simple heuristic that will use\n",
      "    the passengers' gender to predict if that person survived the Titanic disaster.\n",
      "    \n",
      "    You prediction should be 78% accurate or higher.\n",
      "        \n",
      "    Here's a simple heuristic to start off:\n",
      "       1) If the passenger is female, your heuristic should assume that the\n",
      "       passenger survived.\n",
      "       2) If the passenger is male, you heuristic should\n",
      "       assume that the passenger did not survive.\n",
      "    \n",
      "    You can access the gender of a passenger via passenger['Sex'].\n",
      "    If the passenger is male, passenger['Sex'] will return a string \"male\".\n",
      "    If the passenger is female, passenger['Sex'] will return a string \"female\".\n",
      "\n",
      "    Write your prediction back into the \"predictions\" dictionary. The\n",
      "    key of the dictionary should be the passenger's id (which can be accessed\n",
      "    via passenger[\"PassengerId\"]) and the associated value should be 1 if the\n",
      "    passenger survied or 0 otherwise.\n",
      "\n",
      "    For example, if a passenger is predicted to have survived:\n",
      "    passenger_id = passenger['PassengerId']\n",
      "    predictions[passenger_id] = 1\n",
      "\n",
      "    And if a passenger is predicted to have perished in the disaster:\n",
      "    passenger_id = passenger['PassengerId']\n",
      "    predictions[passenger_id] = 0\n",
      "    \n",
      "    You can also look at the Titantic data that you will be working with\n",
      "    at the link below:\n",
      "    https://www.dropbox.com/s/r5f9aos8p9ri9sa/titanic_data.csv"
     ]
    },
    {
     "cell_type": "code",
     "collapsed": false,
     "input": [
      "def simple_heuristic(file_path):\n",
      "    predictions = {}\n",
      "    df = pandas.read_csv(file_path)\n",
      "    for passenger_index, passenger in df.iterrows():\n",
      "        passenger_id = passenger['PassengerId']\n",
      "      \n",
      "        # Your code here:\n",
      "        # For example, let's assume that if the passenger\n",
      "        # is a male, then the passenger survived.\n",
      "        if passenger['Sex'] == 'male':\n",
      "            predictions[passenger_id] = 0\n",
      "        else:\n",
      "            predictions[passenger_id] = 1\n",
      "    return predictions"
     ],
     "language": "python",
     "metadata": {},
     "outputs": [],
     "prompt_number": 6
    },
    {
     "cell_type": "heading",
     "level": 1,
     "metadata": {},
     "source": [
      "Exercise 2"
     ]
    },
    {
     "cell_type": "raw",
     "metadata": {},
     "source": [
      "    You are given a list of Titantic passengers and their associated\n",
      "    information. More information about the data can be seen at the link below:\n",
      "    http://www.kaggle.com/c/titanic-gettingStarted/data\n",
      "\n",
      "    For this exercise, you need to write a more sophisticated algorithm\n",
      "    that will use the passengers' gender and their socioeconomical class and age \n",
      "    to predict if they survived the Titanic diaster. \n",
      "    \n",
      "    You prediction should be 79% accurate or higher.\n",
      "    \n",
      "    Here's the algorithm, predict the passenger survived if:\n",
      "    1) If the passenger is female or\n",
      "    2) if his/her socioeconomic status is high AND if the passenger is under 18\n",
      "    \n",
      "    Otherwise, your algorithm should predict that the passenger perished in the disaster.\n",
      "    \n",
      "    Or more specifically in terms of coding:\n",
      "    female or (high status and under 18)\n",
      "    \n",
      "    You can access the gender of a passenger via passenger['Sex'].\n",
      "    If the passenger is male, passenger['Sex'] will return a string \"male\".\n",
      "    If the passenger is female, passenger['Sex'] will return a string \"female\".\n",
      "    \n",
      "    You can access the socioeconomic status of a passenger via passenger['Pclass']:\n",
      "    High socioeconomic status -- passenger['Pclass'] is 1\n",
      "    Medium socioeconomic status -- passenger['Pclass'] is 2\n",
      "    Low socioeconomic status -- passenger['Pclass'] is 3\n",
      "\n",
      "    You can access the age of a passenger via passenger['Age'].\n",
      "    \n",
      "    Write your prediction back into the \"predictions\" dictionary. The\n",
      "    key of the dictionary should be the Passenger's id (which can be accessed\n",
      "    via passenger[\"PassengerId\"]) and the associated value should be 1 if the\n",
      "    passenger survived or 0 otherwise. \n",
      "\n",
      "    For example, if a passenger is predicted to have survived:\n",
      "    passenger_id = passenger['PassengerId']\n",
      "    predictions[passenger_id] = 1\n",
      "\n",
      "    And if a passenger is predicted to have perished in the disaster:\n",
      "    passenger_id = passenger['PassengerId']\n",
      "    predictions[passenger_id] = 0\n",
      "    \n",
      "    You can also look at the Titantic data that you will be working with\n",
      "    at the link below:\n",
      "    https://www.dropbox.com/s/r5f9aos8p9ri9sa/titanic_data.csv"
     ]
    },
    {
     "cell_type": "code",
     "collapsed": false,
     "input": [
      "def complex_heuristic(file_path):\n",
      "    predictions = {}\n",
      "    df = pandas.read_csv(file_path)\n",
      "    for passenger_index, passenger in df.iterrows():\n",
      "        passenger_id = passenger['PassengerId']\n",
      "        # \n",
      "        # your code here\n",
      "        # for example, assuming that passengers who are male\n",
      "        # and older than 18 surived:\n",
      "        #     if passenger['Sex'] == 'male' or passenger['Age'] < 18:\n",
      "        #         predictions[passenger_id] = 1\n",
      "        # \n",
      "    return predictions\n"
     ],
     "language": "python",
     "metadata": {},
     "outputs": []
    }
   ],
   "metadata": {}
  }
 ]
}