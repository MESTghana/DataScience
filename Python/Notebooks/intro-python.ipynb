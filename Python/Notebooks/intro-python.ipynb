{
 "metadata": {
  "name": ""
 },
 "nbformat": 3,
 "nbformat_minor": 0,
 "worksheets": [
  {
   "cells": [
    {
     "cell_type": "heading",
     "level": 1,
     "metadata": {},
     "source": [
      "Introduction to Python For Data Science"
     ]
    },
    {
     "cell_type": "raw",
     "metadata": {},
     "source": [
      "IPython Notebook provides a great interactive environment to do Data Science through its iterative cells, functions and extra magical features."
     ]
    },
    {
     "cell_type": "heading",
     "level": 2,
     "metadata": {},
     "source": [
      "Intro: Playing around"
     ]
    },
    {
     "cell_type": "code",
     "collapsed": false,
     "input": [
      "numbers = range(10)\n",
      "numbers\n",
      "\n",
      "# create a range of numbers\n",
      "range(10, 0, -2)\n",
      "\n",
      "# Finding more information about variables and functions\n",
      "# use the ? before or after \n",
      "# example to know more about numbers\n",
      "?numbers"
     ],
     "language": "python",
     "metadata": {},
     "outputs": [],
     "prompt_number": 17
    },
    {
     "cell_type": "heading",
     "level": 2,
     "metadata": {},
     "source": [
      "Strings"
     ]
    },
    {
     "cell_type": "code",
     "collapsed": false,
     "input": [
      "name = \"David Kwaku Selassie Bampo Opoku\"\n",
      "name\n",
      "\n",
      "# Display length of number string\n",
      "len(name)\n",
      "\n",
      "# What methods do I have available?\n",
      "\n",
      "# Capitalize\n",
      "name.capitalize()\n",
      "\n",
      "# Uppercase\n",
      "name.upper()"
     ],
     "language": "python",
     "metadata": {},
     "outputs": [
      {
       "metadata": {},
       "output_type": "pyout",
       "prompt_number": 6,
       "text": [
        "'DAVID KWAKU SELASSIE BAMPO OPOKU'"
       ]
      }
     ],
     "prompt_number": 6
    },
    {
     "cell_type": "heading",
     "level": 2,
     "metadata": {},
     "source": [
      "Numbers"
     ]
    },
    {
     "cell_type": "code",
     "collapsed": false,
     "input": [
      "number = 5\n",
      "\n",
      "# You can output numbers too with print\n",
      "print number\n",
      "\n",
      "# or without print\n",
      "number"
     ],
     "language": "python",
     "metadata": {},
     "outputs": [
      {
       "output_type": "stream",
       "stream": "stdout",
       "text": [
        "5\n"
       ]
      },
      {
       "metadata": {},
       "output_type": "pyout",
       "prompt_number": 7,
       "text": [
        "5"
       ]
      }
     ],
     "prompt_number": 7
    },
    {
     "cell_type": "heading",
     "level": 2,
     "metadata": {},
     "source": [
      "Lists"
     ]
    },
    {
     "cell_type": "code",
     "collapsed": false,
     "input": [
      "cars = ['BMW', 'Maserati', 'Mercedez', 'Trotro', 'Kia', 'Range Rover']\n",
      "len(cars)\n",
      "\n",
      "# For loops in python\n",
      "# for car in cars:\n",
      "#     print car\n",
      "    \n",
      "cars3 = []\n",
      "for car in cars:\n",
      "    if len(car) > 3:\n",
      "        cars3.append(car)\n",
      "cars3\n",
      "        "
     ],
     "language": "python",
     "metadata": {},
     "outputs": [
      {
       "metadata": {},
       "output_type": "pyout",
       "prompt_number": 8,
       "text": [
        "['Maserati', 'Mercedez', 'Trotro', 'Range Rover']"
       ]
      }
     ],
     "prompt_number": 8
    },
    {
     "cell_type": "heading",
     "level": 2,
     "metadata": {},
     "source": [
      "List Comprehensions"
     ]
    },
    {
     "cell_type": "code",
     "collapsed": false,
     "input": [
      "car3_new = [ car for car in cars if len(car) > 3]\n",
      "\n",
      "car3_new"
     ],
     "language": "python",
     "metadata": {},
     "outputs": [
      {
       "metadata": {},
       "output_type": "pyout",
       "prompt_number": 9,
       "text": [
        "['Maserati', 'Mercedez', 'Trotro', 'Range Rover']"
       ]
      }
     ],
     "prompt_number": 9
    },
    {
     "cell_type": "heading",
     "level": 2,
     "metadata": {},
     "source": [
      "Functions"
     ]
    },
    {
     "cell_type": "code",
     "collapsed": false,
     "input": [
      "# Syntax for functions in python\n",
      "# A function that prints cars greater than length 3\n",
      "\n",
      "def cars3_func(cars_list):\n",
      "    for car in cars_list:\n",
      "        if len(car) > 3:\n",
      "            print car\n",
      "\n",
      "cars3_func(cars)"
     ],
     "language": "python",
     "metadata": {},
     "outputs": [
      {
       "output_type": "stream",
       "stream": "stdout",
       "text": [
        "Maserati\n",
        "Mercedez\n",
        "Trotro\n",
        "Range Rover\n"
       ]
      }
     ],
     "prompt_number": 10
    },
    {
     "cell_type": "heading",
     "level": 2,
     "metadata": {},
     "source": [
      "Sorting "
     ]
    },
    {
     "cell_type": "code",
     "collapsed": false,
     "input": [
      "# use list sort method to permanently sort list\n",
      "# cars.sort()\n",
      "\n",
      "print \"Before sort\"\n",
      "print cars\n",
      "# create new list of cars that is sorted using 'sorted function'\n",
      "print \"After sort\"\n",
      "print sorted(cars)\n",
      "\n",
      "cars\n",
      "\n",
      "\n",
      "# Reverse sort order\n",
      "sorted(cars, reverse=True)"
     ],
     "language": "python",
     "metadata": {},
     "outputs": [
      {
       "output_type": "stream",
       "stream": "stdout",
       "text": [
        "Before sort\n",
        "['BMW', 'Maserati', 'Mercedez', 'Trotro', 'Kia', 'Range Rover']\n",
        "After sort\n",
        "['BMW', 'Kia', 'Maserati', 'Mercedez', 'Range Rover', 'Trotro']\n"
       ]
      },
      {
       "metadata": {},
       "output_type": "pyout",
       "prompt_number": 11,
       "text": [
        "['Trotro', 'Range Rover', 'Mercedez', 'Maserati', 'Kia', 'BMW']"
       ]
      }
     ],
     "prompt_number": 11
    },
    {
     "cell_type": "heading",
     "level": 2,
     "metadata": {},
     "source": [
      "Sets"
     ]
    },
    {
     "cell_type": "code",
     "collapsed": false,
     "input": [
      "# Define a set of names\n",
      "names = ['Kwame', 'David', 'Kwame', 'Sam', 'Priscilla', 'Barbara', 'Afi', 'Afi']\n",
      "names\n",
      "\n",
      "# Create a set from names list\n",
      "set_of_names = set(names) \n",
      "set_of_names"
     ],
     "language": "python",
     "metadata": {},
     "outputs": [
      {
       "metadata": {},
       "output_type": "pyout",
       "prompt_number": 12,
       "text": [
        "{'Afi', 'Barbara', 'David', 'Kwame', 'Priscilla', 'Sam'}"
       ]
      }
     ],
     "prompt_number": 12
    },
    {
     "cell_type": "heading",
     "level": 2,
     "metadata": {},
     "source": [
      "Dictionaries"
     ]
    },
    {
     "cell_type": "code",
     "collapsed": false,
     "input": [
      "capitals = {\"Ghana\": \"Accra\", \"Nigeria\": \"Abuja\", \"Kenya\": \"Nairobi\", \"Somalia\": \"Mogadishu\"}\n",
      "capitals\n",
      "\n",
      "# access value of dictionary using keys\n",
      "capitals[\"Nigeria\"]\n",
      "\n",
      "for country, capital in capitals.items():\n",
      "    print \"{1} : {0}\".format(capital, country)\n",
      "    \n",
      "print\n",
      "    \n",
      "for country, capital in capitals.items():\n",
      "    print \"{0} : {1}\".format(capital, country)\n",
      "    \n",
      "# for country, capital in capitals.items():\n",
      "#     print \"%s : %s\" %(capital, country)"
     ],
     "language": "python",
     "metadata": {},
     "outputs": [
      {
       "output_type": "stream",
       "stream": "stdout",
       "text": [
        "Ghana : Accra\n",
        "Kenya : Nairobi\n",
        "Nigeria : Abuja\n",
        "Somalia : Mogadishu\n",
        "\n",
        "Accra : Ghana\n",
        "Nairobi : Kenya\n",
        "Abuja : Nigeria\n",
        "Mogadishu : Somalia\n"
       ]
      }
     ],
     "prompt_number": 13
    },
    {
     "cell_type": "heading",
     "level": 2,
     "metadata": {},
     "source": [
      "Files"
     ]
    },
    {
     "cell_type": "code",
     "collapsed": false,
     "input": [
      "!echo  \"Data Science at MEST is awesome\" > text.txt\n",
      "!cat text.txt\n",
      "\n",
      "# Read content of text.txt\n",
      "content = open(\"text.txt\")\n",
      "content.readline()\n",
      "content.close()\n",
      "\n",
      "# Write content to text.txt\n",
      "# use open function with 'w' flag to create write file handle\n",
      "content_write = open(\"text.txt\", 'w') \n",
      "content_write.write(\"EITs are awesome!!!!\")\n",
      "\n",
      "# print content_write \"EITs are awesome\" "
     ],
     "language": "python",
     "metadata": {},
     "outputs": [
      {
       "output_type": "stream",
       "stream": "stdout",
       "text": [
        "Data Science at MEST is awesome\r\n"
       ]
      }
     ],
     "prompt_number": 14
    },
    {
     "cell_type": "code",
     "collapsed": false,
     "input": [
      "!cat text.txt"
     ],
     "language": "python",
     "metadata": {},
     "outputs": [],
     "prompt_number": 15
    },
    {
     "cell_type": "heading",
     "level": 2,
     "metadata": {},
     "source": [
      "Importing Libraries"
     ]
    },
    {
     "cell_type": "code",
     "collapsed": false,
     "input": [
      "import numpy as np\n",
      "import pandas as pd\n",
      "import scipy as sp\n",
      "import sklearn as sk\n",
      "import matplotlib.pyplot as plt\n",
      "\n",
      "# Allow matplotlib to plot visualisations within notebook\n",
      "%matplotlib inline"
     ],
     "language": "python",
     "metadata": {},
     "outputs": [],
     "prompt_number": 16
    }
   ],
   "metadata": {}
  }
 ]
}